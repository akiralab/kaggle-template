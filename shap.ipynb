{
 "cells": [
  {
   "cell_type": "markdown",
   "metadata": {},
   "source": [
    "# Shapによる解釈性の可視化\n",
    "- [機械学習モデルの説明性・解釈性について -SHAPによる実践あり\n",
    "](https://cpp-learning.com/interpretable-model/)"
   ]
  },
  {
   "cell_type": "code",
   "execution_count": 1,
   "metadata": {},
   "outputs": [
    {
     "ename": "ModuleNotFoundError",
     "evalue": "No module named 'shap'",
     "output_type": "error",
     "traceback": [
      "\u001b[0;31m---------------------------------------------------------------------------\u001b[0m",
      "\u001b[0;31mModuleNotFoundError\u001b[0m                       Traceback (most recent call last)",
      "\u001b[0;32m<ipython-input-1-55f4633d330a>\u001b[0m in \u001b[0;36m<module>\u001b[0;34m\u001b[0m\n\u001b[1;32m      6\u001b[0m \u001b[0;32mfrom\u001b[0m \u001b[0msklearn\u001b[0m\u001b[0;34m.\u001b[0m\u001b[0mmodel_selection\u001b[0m \u001b[0;32mimport\u001b[0m \u001b[0mtrain_test_split\u001b[0m\u001b[0;34m\u001b[0m\u001b[0;34m\u001b[0m\u001b[0m\n\u001b[1;32m      7\u001b[0m \u001b[0;31m# from sklearn.metrics import mean_squared_error\u001b[0m\u001b[0;34m\u001b[0m\u001b[0;34m\u001b[0m\u001b[0;34m\u001b[0m\u001b[0m\n\u001b[0;32m----> 8\u001b[0;31m \u001b[0;32mimport\u001b[0m \u001b[0mshap\u001b[0m\u001b[0;34m\u001b[0m\u001b[0;34m\u001b[0m\u001b[0m\n\u001b[0m",
      "\u001b[0;31mModuleNotFoundError\u001b[0m: No module named 'shap'"
     ]
    }
   ],
   "source": [
    "import pandas as pd\n",
    "from matplotlib import pyplot as plt\n",
    "\n",
    "import lightgbm as lgb\n",
    "\n",
    "from sklearn.model_selection import train_test_split\n",
    "# from sklearn.metrics import mean_squared_error\n",
    "import shap"
   ]
  },
  {
   "cell_type": "markdown",
   "metadata": {
    "tags": []
   },
   "source": [
    "### 前処理"
   ]
  },
  {
   "cell_type": "code",
   "execution_count": null,
   "metadata": {},
   "outputs": [],
   "source": [
    "train_df = pd.read_csv('res/train.csv')\n",
    "test_df = pd.read_csv('res/test.csv')\n",
    "submission_df = pd.read_csv('res/sample_submit.csv')"
   ]
  },
  {
   "cell_type": "code",
   "execution_count": null,
   "metadata": {},
   "outputs": [],
   "source": [
    "combine = [train_df, test_df]"
   ]
  },
  {
   "cell_type": "code",
   "execution_count": null,
   "metadata": {},
   "outputs": [],
   "source": [
    "# for df in combine:\n",
    "# train_df.drop(columns=['index'], inplace=True)"
   ]
  },
  {
   "cell_type": "markdown",
   "metadata": {},
   "source": [
    "### 1. age -> 一定年齢ごとにグループ分けする\n",
    "- ~22, ~28, ~34, ~40, ~46, ~52, ~64で分けてみる"
   ]
  },
  {
   "cell_type": "code",
   "execution_count": null,
   "metadata": {},
   "outputs": [],
   "source": [
    "for df in combine:\n",
    "    \n",
    "    df.loc[                     df['age'] <= 22,  'age' ] = 0\n",
    "    df.loc[ (22 < df['age']) & (df['age'] <= 28), 'age' ] = 1\n",
    "    df.loc[ (28 < df['age']) & (df['age'] <= 34), 'age' ] = 2\n",
    "    df.loc[ (34 < df['age']) & (df['age'] <= 40), 'age' ] = 3\n",
    "    df.loc[ (40 < df['age']) & (df['age'] <= 46), 'age' ] = 4\n",
    "    df.loc[ (46 < df['age']) & (df['age'] <= 52), 'age' ] = 5\n",
    "    df.loc[ (52 < df['age'])                    , 'age' ] = 6\n",
    "    \n",
    "train_df['age']"
   ]
  },
  {
   "cell_type": "markdown",
   "metadata": {},
   "source": [
    "### 2. workclass -> シンプルにラベルを振る"
   ]
  },
  {
   "cell_type": "code",
   "execution_count": null,
   "metadata": {},
   "outputs": [],
   "source": [
    "workclass_map = {}\n",
    "for index, item in enumerate(train_df['workclass'].unique()):\n",
    "    workclass_map[item] = index\n",
    "\n",
    "for df in combine:\n",
    "    df['workclass'] = df['workclass'].map( workclass_map ).astype(int)\n",
    "    \n",
    "train_df.head()"
   ]
  },
  {
   "cell_type": "markdown",
   "metadata": {},
   "source": [
    "### 3. fnlwgt -> 確認中\n",
    "- Yと関連性が薄そうなので一旦削除"
   ]
  },
  {
   "cell_type": "code",
   "execution_count": null,
   "metadata": {},
   "outputs": [],
   "source": [
    "train_df['fnlwgt'].nunique(), train_df['fnlwgt'].dtype"
   ]
  },
  {
   "cell_type": "code",
   "execution_count": null,
   "metadata": {},
   "outputs": [],
   "source": [
    "for df in combine:\n",
    "    df.drop(columns=['fnlwgt'], axis=1, inplace=True)"
   ]
  },
  {
   "cell_type": "code",
   "execution_count": null,
   "metadata": {},
   "outputs": [],
   "source": [
    "train_df.head()"
   ]
  },
  {
   "cell_type": "markdown",
   "metadata": {
    "tags": []
   },
   "source": [
    "### 4. education\n",
    "- 余力で*th系をまとめるなどの工夫をする"
   ]
  },
  {
   "cell_type": "code",
   "execution_count": null,
   "metadata": {},
   "outputs": [],
   "source": [
    "education_map = {}\n",
    "for index, item in enumerate(train_df['education'].unique()):\n",
    "    education_map[item] = index\n",
    "\n",
    "for df in combine:\n",
    "    df['education'] = df['education'].map( education_map ).astype(int)\n",
    "    \n",
    "train_df.head()"
   ]
  },
  {
   "cell_type": "markdown",
   "metadata": {
    "tags": []
   },
   "source": [
    "### 5. education-num\n",
    "- そのままでOK\n",
    "- 余力で項目数を削減する方向での分類を行う"
   ]
  },
  {
   "cell_type": "code",
   "execution_count": null,
   "metadata": {},
   "outputs": [],
   "source": [
    "# education_num_map = {}\n",
    "# for index, item in enumerate(train_df['education-num'].unique()):\n",
    "#     education_num_map[item] = index\n",
    "\n",
    "# for df in combine:\n",
    "#     df['education-num'] = df['education-num'].map( education_num_map ).astype(int)\n",
    "    \n",
    "# train_df.head()"
   ]
  },
  {
   "cell_type": "code",
   "execution_count": null,
   "metadata": {},
   "outputs": [],
   "source": []
  },
  {
   "cell_type": "markdown",
   "metadata": {
    "tags": []
   },
   "source": [
    "### 6. marital-status\n",
    "- シンプルにラベル付けする"
   ]
  },
  {
   "cell_type": "code",
   "execution_count": null,
   "metadata": {},
   "outputs": [],
   "source": [
    "replace_map = {}\n",
    "column_name = 'marital-status'\n",
    "for index, item in enumerate(train_df[column_name].unique()):\n",
    "    replace_map[item] = index\n",
    "\n",
    "for df in combine:\n",
    "    df[column_name] = df[column_name].map( replace_map ).astype(int)\n",
    "    \n",
    "train_df.head()"
   ]
  },
  {
   "cell_type": "markdown",
   "metadata": {},
   "source": [
    "### occupation\n",
    "- 一旦ラベル付け\n",
    "- 余力でone-hotコーディングをしてみる"
   ]
  },
  {
   "cell_type": "code",
   "execution_count": null,
   "metadata": {},
   "outputs": [],
   "source": [
    "replace_map = {}\n",
    "column_name = 'occupation'\n",
    "for index, item in enumerate(train_df[column_name].unique()):\n",
    "    replace_map[item] = index\n",
    "\n",
    "for df in combine:\n",
    "    df[column_name] = df[column_name].map( replace_map ).astype(int)\n",
    "    \n",
    "train_df.head()"
   ]
  },
  {
   "cell_type": "markdown",
   "metadata": {},
   "source": [
    "### relationship\n",
    "- husbandかそれ以外か、という分類でも問題なさそう\n",
    "- 余力でone-hotコーディングをしてみる"
   ]
  },
  {
   "cell_type": "code",
   "execution_count": null,
   "metadata": {},
   "outputs": [],
   "source": [
    "for df in combine:\n",
    "    \n",
    "    df.loc[ df['relationship'] != 'Husband' , 'relationship'] = 0.\n",
    "    df.loc[ df['relationship'] == 'Husband' , 'relationship'] = 1.\n",
    "    df['relationship'].astype(int)\n",
    "    \n",
    "train_df.head()\n",
    "train_df['relationship'].nunique()"
   ]
  },
  {
   "cell_type": "markdown",
   "metadata": {
    "tags": []
   },
   "source": [
    "### race\n",
    "- 一旦シンプルにラベリング"
   ]
  },
  {
   "cell_type": "code",
   "execution_count": null,
   "metadata": {},
   "outputs": [],
   "source": [
    "replace_map = {}\n",
    "column_name = 'race'\n",
    "for index, item in enumerate(train_df[column_name].unique()):\n",
    "    replace_map[item] = index\n",
    "\n",
    "for df in combine:\n",
    "    df[column_name] = df[column_name].map( replace_map ).astype(int)\n",
    "    \n",
    "train_df.head()"
   ]
  },
  {
   "cell_type": "code",
   "execution_count": null,
   "metadata": {},
   "outputs": [],
   "source": []
  },
  {
   "cell_type": "markdown",
   "metadata": {
    "tags": []
   },
   "source": [
    "### native-country\n",
    "- 一旦シンプルにラベリング"
   ]
  },
  {
   "cell_type": "code",
   "execution_count": null,
   "metadata": {},
   "outputs": [],
   "source": [
    "replace_map = {}\n",
    "column_name = 'native-country'\n",
    "for index, item in enumerate(train_df[column_name].unique()):\n",
    "    replace_map[item] = index\n",
    "\n",
    "for df in combine:\n",
    "    df[column_name] = df[column_name].map( replace_map ).astype(int)\n",
    "    \n",
    "train_df.head()"
   ]
  },
  {
   "cell_type": "code",
   "execution_count": null,
   "metadata": {},
   "outputs": [],
   "source": [
    "for dataset in combine:\n",
    "    dataset['sex'] = dataset['sex'].map( {'Female': 0, 'Male': 1} ).astype(int)\n",
    "    \n",
    "train_df['sex']"
   ]
  },
  {
   "cell_type": "markdown",
   "metadata": {},
   "source": [
    "### index = Yに変換する"
   ]
  },
  {
   "cell_type": "code",
   "execution_count": null,
   "metadata": {},
   "outputs": [],
   "source": [
    "train_df.set_index('Y')"
   ]
  },
  {
   "cell_type": "code",
   "execution_count": null,
   "metadata": {},
   "outputs": [],
   "source": [
    "X_train = train_df.drop('Y', axis=1)\n",
    "Y_train = train_df['Y']\n",
    "X_test  = test_df\n",
    "X_train.shape, Y_train.shape, X_test.shape"
   ]
  },
  {
   "cell_type": "code",
   "execution_count": null,
   "metadata": {},
   "outputs": [],
   "source": [
    "X_train = X_train.astype('int64')\n",
    "X_test  = X_test.astype('int64')\n",
    "\n",
    "X_train.info()"
   ]
  },
  {
   "cell_type": "code",
   "execution_count": null,
   "metadata": {},
   "outputs": [],
   "source": [
    "x_train, x_test, y_train, y_test = train_test_split(X_train, Y_train, test_size=0.3)\n",
    "print(len(X_train))\n",
    "print(len(X_test))\n",
    "# X_train.head()\n",
    "X_train.info()"
   ]
  },
  {
   "cell_type": "code",
   "execution_count": null,
   "metadata": {},
   "outputs": [],
   "source": [
    "# # X, y = shap.datasets.boston()\n",
    "# X_train, X_test, y_train, y_test = train_test_split(X, y, test_size=0.3)\n",
    "# # print(len(X_train))\n",
    "# # print(len(X_test))\n",
    "# # X.head()\n"
   ]
  },
  {
   "cell_type": "markdown",
   "metadata": {},
   "source": [
    "### lightgbmによる学習"
   ]
  },
  {
   "cell_type": "code",
   "execution_count": null,
   "metadata": {},
   "outputs": [],
   "source": [
    "# create dataset for lightgbm\n",
    "lgb_train = lgb.Dataset(x_train, y_train)\n",
    "lgb_eval = lgb.Dataset(x_test, y_test, reference=lgb_train)\n",
    "\n",
    "# LightGBM parameters\n",
    "params = {\n",
    "        'objective' : 'regression',\n",
    "        'metric' : 'rmse',\n",
    "        'num_leaves' : 31,\n",
    "        'learning_rate' : 0.1,\n",
    "        'feature_fraction' : 1.0,\n",
    "        'bagging_fraction' : 1.0,\n",
    "        'bagging_freq': 0,\n",
    "        'verbose' : 0,\n",
    "        'min_child_samples': 5       \n",
    "}\n",
    "\n",
    "# train\n",
    "model = lgb.train(params,\n",
    "            lgb_train,\n",
    "            num_boost_round=200,\n",
    "            valid_sets=lgb_eval,\n",
    "            early_stopping_rounds=10)"
   ]
  },
  {
   "cell_type": "code",
   "execution_count": null,
   "metadata": {},
   "outputs": [],
   "source": [
    "y_pred = model.predict(X_test, num_iteration=model.best_iteration)\n",
    "# metric = y_test-y_pred\n",
    "plt.figure(figsize=(10, 4))\n",
    "plt.plot(y_test, label=\"y\")\n",
    "plt.plot(y_pred, label=\"y_pred\")\n",
    "# plt.plot(metric)\n",
    "plt.legend()\n",
    "plt.show()"
   ]
  },
  {
   "cell_type": "code",
   "execution_count": null,
   "metadata": {},
   "outputs": [],
   "source": [
    "# target data\n",
    "ID = 5\n",
    "print(\"===== Explanatory variable =====\")\n",
    "print(X_train.iloc[ID,:])\n",
    "print(\"====== Response variable =======\")\n",
    "print(\"y:\", y_train[ID])\n",
    "# explain the model's predictions using SHAP\n",
    "# (same syntax works for LightGBM, CatBoost, scikit-learn and spark models)\n",
    "explainer = shap.TreeExplainer(model)\n",
    "shap_values = explainer.shap_values(X_train)\n",
    "\n",
    "# load JS visualization code to notebook\n",
    "shap.initjs()\n",
    "\n",
    "# visualize the 5th prediction's explanation (use matplotlib=True to avoid Javascript)\n",
    "shap.force_plot(explainer.expected_value, shap_values[ID,:], X_train.iloc[ID,:])"
   ]
  },
  {
   "cell_type": "code",
   "execution_count": null,
   "metadata": {},
   "outputs": [],
   "source": [
    "# load JS visualization code to notebook\n",
    "shap.initjs()\n",
    "\n",
    "# visualize the training set predictions\n",
    "shap.force_plot(explainer.expected_value, shap_values, X_train)"
   ]
  },
  {
   "cell_type": "code",
   "execution_count": null,
   "metadata": {},
   "outputs": [],
   "source": [
    "# create a dependence plot to show the effect of a single feature across the whole dataset\n",
    "shap.dependence_plot(\"RM\", shap_values, X_train)\n"
   ]
  },
  {
   "cell_type": "code",
   "execution_count": null,
   "metadata": {},
   "outputs": [],
   "source": [
    "shap.summary_plot(shap_values, X_train, plot_type=\"bar\")\n"
   ]
  },
  {
   "cell_type": "code",
   "execution_count": null,
   "metadata": {},
   "outputs": [],
   "source": [
    "lgb.plot_importance(model)\n",
    "plt.show()"
   ]
  },
  {
   "cell_type": "code",
   "execution_count": null,
   "metadata": {},
   "outputs": [],
   "source": []
  }
 ],
 "metadata": {
  "kernelspec": {
   "display_name": "Python 3",
   "language": "python",
   "name": "python3"
  },
  "language_info": {
   "codemirror_mode": {
    "name": "ipython",
    "version": 3
   },
   "file_extension": ".py",
   "mimetype": "text/x-python",
   "name": "python",
   "nbconvert_exporter": "python",
   "pygments_lexer": "ipython3",
   "version": "3.8.9"
  }
 },
 "nbformat": 4,
 "nbformat_minor": 4
}
