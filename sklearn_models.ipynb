{
 "cells": [
  {
   "cell_type": "markdown",
   "id": "4995d4e3",
   "metadata": {},
   "source": [
    "# 3. Simple Modeling"
   ]
  },
  {
   "cell_type": "code",
   "execution_count": 1,
   "id": "1e0b7f93",
   "metadata": {},
   "outputs": [],
   "source": [
    "import pandas as pd\n",
    "import matplotlib.pyplot as plt\n",
    "import numpy as np\n",
    "import seaborn as sns\n",
    "import os"
   ]
  },
  {
   "cell_type": "markdown",
   "id": "53cb2bc1",
   "metadata": {},
   "source": [
    "## Ideas\n",
    "- Feature to feature relationship\n",
    "- [detailed-exploratory-data-analysis-with-python](https://www.kaggle.com/ekami66/detailed-exploratory-data-analysis-with-python)\n"
   ]
  },
  {
   "cell_type": "markdown",
   "id": "0d07140d-ccd1-4859-83e8-57936c2aab00",
   "metadata": {
    "tags": []
   },
   "source": [
    "# PreProcess"
   ]
  },
  {
   "cell_type": "code",
   "execution_count": 2,
   "id": "fc04adc8-7a46-4b15-97bc-5896f3cc97b0",
   "metadata": {},
   "outputs": [],
   "source": [
    "from preprocess import preprocess"
   ]
  },
  {
   "cell_type": "code",
   "execution_count": 3,
   "id": "993d1bf6-b8a9-4543-9a20-b670d9edcac9",
   "metadata": {},
   "outputs": [],
   "source": [
    "X_train, Y_train, X_test = preprocess()"
   ]
  },
  {
   "cell_type": "code",
   "execution_count": 4,
   "id": "8b428eb8-b1e8-494b-87a4-3ab8f3a94e39",
   "metadata": {},
   "outputs": [
    {
     "data": {
      "text/plain": [
       "((10200, 11), (10200,), (6800, 11))"
      ]
     },
     "execution_count": 4,
     "metadata": {},
     "output_type": "execute_result"
    }
   ],
   "source": [
    "X_train.shape, Y_train.shape, X_test.shape"
   ]
  },
  {
   "cell_type": "code",
   "execution_count": 5,
   "id": "4880a992-b0f2-4494-a4db-842a8b01030d",
   "metadata": {},
   "outputs": [
    {
     "name": "stdout",
     "output_type": "stream",
     "text": [
      "<class 'pandas.core.frame.DataFrame'>\n",
      "RangeIndex: 10200 entries, 0 to 10199\n",
      "Data columns (total 11 columns):\n",
      " #   Column          Non-Null Count  Dtype\n",
      "---  ------          --------------  -----\n",
      " 0   index           10200 non-null  int64\n",
      " 1   age             10200 non-null  int64\n",
      " 2   workclass       10200 non-null  int64\n",
      " 3   education       10200 non-null  int64\n",
      " 4   education-num   10200 non-null  int64\n",
      " 5   marital-status  10200 non-null  int64\n",
      " 6   occupation      10200 non-null  int64\n",
      " 7   relationship    10200 non-null  int64\n",
      " 8   race            10200 non-null  int64\n",
      " 9   sex             10200 non-null  int64\n",
      " 10  native-country  10200 non-null  int64\n",
      "dtypes: int64(11)\n",
      "memory usage: 876.7 KB\n"
     ]
    }
   ],
   "source": [
    "X_train.info()"
   ]
  },
  {
   "cell_type": "markdown",
   "id": "db06ebde",
   "metadata": {
    "tags": []
   },
   "source": [
    "# Models\n",
    "- LogisticRegression\n",
    "- SVC, LinearSVC\n",
    "- RandomForestClassifier\n",
    "- KNeiborsClassifier\n",
    "- GaussianNB\n",
    "- Percepton\n",
    "- SGDClassifier\n",
    "- DicisionTreeClassifier\n",
    "\n",
    "### Reference\n",
    "- [titanic-data-science-solutions](https://www.kaggle.com/startupsci/titanic-data-science-solutions)"
   ]
  },
  {
   "cell_type": "code",
   "execution_count": 6,
   "id": "05ed8bd0-4578-42e1-89a4-831013ba8030",
   "metadata": {},
   "outputs": [],
   "source": [
    "VERSION = \"v2\""
   ]
  },
  {
   "cell_type": "code",
   "execution_count": 7,
   "id": "f6011652-7513-4d57-9a94-0c1ee0f166ef",
   "metadata": {},
   "outputs": [],
   "source": [
    "# machine learning\n",
    "from sklearn.linear_model import LogisticRegression\n",
    "from sklearn.svm import SVC, LinearSVC\n",
    "from sklearn.ensemble import RandomForestClassifier\n",
    "from sklearn.neighbors import KNeighborsClassifier\n",
    "from sklearn.naive_bayes import GaussianNB\n",
    "from sklearn.linear_model import Perceptron\n",
    "from sklearn.linear_model import SGDClassifier\n",
    "from sklearn.tree import DecisionTreeClassifier"
   ]
  },
  {
   "cell_type": "markdown",
   "id": "0d957868",
   "metadata": {},
   "source": [
    "### Logistic Regrassion"
   ]
  },
  {
   "cell_type": "code",
   "execution_count": 8,
   "id": "31667a40",
   "metadata": {},
   "outputs": [
    {
     "name": "stderr",
     "output_type": "stream",
     "text": [
      "/Users/akirakawai/Library/Python/3.8/lib/python/site-packages/sklearn/linear_model/_logistic.py:814: ConvergenceWarning: lbfgs failed to converge (status=1):\n",
      "STOP: TOTAL NO. of ITERATIONS REACHED LIMIT.\n",
      "\n",
      "Increase the number of iterations (max_iter) or scale the data as shown in:\n",
      "    https://scikit-learn.org/stable/modules/preprocessing.html\n",
      "Please also refer to the documentation for alternative solver options:\n",
      "    https://scikit-learn.org/stable/modules/linear_model.html#logistic-regression\n",
      "  n_iter_i = _check_optimize_result(\n",
      "/Users/akirakawai/Library/Python/3.8/lib/python/site-packages/sklearn/base.py:493: FutureWarning: The feature names should match those that were passed during fit. Starting version 1.2, an error will be raised.\n",
      "Feature names unseen at fit time:\n",
      "- id\n",
      "Feature names seen at fit time, yet now missing:\n",
      "- index\n",
      "\n",
      "  warnings.warn(message, FutureWarning)\n"
     ]
    },
    {
     "data": {
      "text/plain": [
       "81.84"
      ]
     },
     "execution_count": 8,
     "metadata": {},
     "output_type": "execute_result"
    }
   ],
   "source": [
    "logreg = LogisticRegression()\n",
    "logreg.fit(X_train, Y_train)\n",
    "Y_pred = logreg.predict(X_test)\n",
    "acc_log = round(logreg.score(X_train, Y_train)*100, 2)\n",
    "acc_log"
   ]
  },
  {
   "cell_type": "code",
   "execution_count": 10,
   "id": "eae84a72",
   "metadata": {},
   "outputs": [],
   "source": [
    "# coeff_df = pd.DataFrame(train_df.columns.delete([0, 11]))\n",
    "# coeff_df.columns = ['Feature']\n",
    "# coeff_df[\"Correlation\"] = pd.Series(logreg.coef_[0])\n",
    "\n",
    "# coeff_df.sort_values(by='Correlation', ascending=False)"
   ]
  },
  {
   "cell_type": "markdown",
   "id": "1d433d0c",
   "metadata": {},
   "source": [
    "## Predict with LogisticRegression Model"
   ]
  },
  {
   "cell_type": "code",
   "execution_count": 11,
   "id": "3b7d126a",
   "metadata": {},
   "outputs": [],
   "source": [
    "_submission_df = pd.DataFrame([X_test.id, Y_pred]).T\n",
    "_submission_df.to_csv('submissions/{}_logistic.csv'.format(VERSION), header=None, index=False)"
   ]
  },
  {
   "cell_type": "markdown",
   "id": "837eb77a",
   "metadata": {},
   "source": [
    "## Support Vector Machines"
   ]
  },
  {
   "cell_type": "code",
   "execution_count": 12,
   "id": "972cb977",
   "metadata": {},
   "outputs": [
    {
     "name": "stderr",
     "output_type": "stream",
     "text": [
      "/Users/akirakawai/Library/Python/3.8/lib/python/site-packages/sklearn/base.py:493: FutureWarning: The feature names should match those that were passed during fit. Starting version 1.2, an error will be raised.\n",
      "Feature names unseen at fit time:\n",
      "- id\n",
      "Feature names seen at fit time, yet now missing:\n",
      "- index\n",
      "\n",
      "  warnings.warn(message, FutureWarning)\n"
     ]
    },
    {
     "data": {
      "text/plain": [
       "75.78"
      ]
     },
     "execution_count": 12,
     "metadata": {},
     "output_type": "execute_result"
    }
   ],
   "source": [
    "svc = SVC()\n",
    "svc.fit(X_train, Y_train)\n",
    "Y_pred = svc.predict(X_test)\n",
    "acc_svc = round(svc.score(X_train, Y_train)*100, 2)\n",
    "acc_svc"
   ]
  },
  {
   "cell_type": "code",
   "execution_count": 13,
   "id": "980c792f",
   "metadata": {},
   "outputs": [],
   "source": [
    "_submission_df = pd.DataFrame([X_test.id, Y_pred]).T\n",
    "_submission_df.to_csv('submissions/{}_svc.csv'.format(VERSION), header=None, index=False)"
   ]
  },
  {
   "cell_type": "markdown",
   "id": "7ae17a50",
   "metadata": {},
   "source": [
    "## KNN (k-Nearest Neighbors algorithm)"
   ]
  },
  {
   "cell_type": "code",
   "execution_count": 14,
   "id": "8454c793",
   "metadata": {},
   "outputs": [
    {
     "name": "stderr",
     "output_type": "stream",
     "text": [
      "/Users/akirakawai/Library/Python/3.8/lib/python/site-packages/sklearn/base.py:493: FutureWarning: The feature names should match those that were passed during fit. Starting version 1.2, an error will be raised.\n",
      "Feature names unseen at fit time:\n",
      "- id\n",
      "Feature names seen at fit time, yet now missing:\n",
      "- index\n",
      "\n",
      "  warnings.warn(message, FutureWarning)\n"
     ]
    },
    {
     "data": {
      "text/plain": [
       "86.77"
      ]
     },
     "execution_count": 14,
     "metadata": {},
     "output_type": "execute_result"
    }
   ],
   "source": [
    "knn = KNeighborsClassifier(n_neighbors=3)\n",
    "knn.fit(X_train, Y_train)\n",
    "Y_pred = knn.predict(X_test)\n",
    "acc_knn = round(knn.score(X_train, Y_train)*100, 2)\n",
    "acc_knn"
   ]
  },
  {
   "cell_type": "code",
   "execution_count": 15,
   "id": "eb545745",
   "metadata": {},
   "outputs": [],
   "source": [
    "_submission_df = pd.DataFrame([X_test.id, Y_pred]).T\n",
    "_submission_df.to_csv('submissions/{}_knn.csv'.format(VERSION), header=None, index=False)"
   ]
  },
  {
   "cell_type": "markdown",
   "id": "6da92380",
   "metadata": {},
   "source": [
    "## Gausian Naive Bayes"
   ]
  },
  {
   "cell_type": "code",
   "execution_count": 16,
   "id": "a96f123e",
   "metadata": {},
   "outputs": [
    {
     "name": "stderr",
     "output_type": "stream",
     "text": [
      "/Users/akirakawai/Library/Python/3.8/lib/python/site-packages/sklearn/base.py:493: FutureWarning: The feature names should match those that were passed during fit. Starting version 1.2, an error will be raised.\n",
      "Feature names unseen at fit time:\n",
      "- id\n",
      "Feature names seen at fit time, yet now missing:\n",
      "- index\n",
      "\n",
      "  warnings.warn(message, FutureWarning)\n"
     ]
    },
    {
     "data": {
      "text/plain": [
       "84.0"
      ]
     },
     "execution_count": 16,
     "metadata": {},
     "output_type": "execute_result"
    }
   ],
   "source": [
    "gaussian = GaussianNB()\n",
    "gaussian.fit(X_train, Y_train)\n",
    "Y_pred = gaussian.predict(X_test)\n",
    "acc_gaussian = round(gaussian.score(X_train, Y_train), 2)*100\n",
    "acc_gaussian"
   ]
  },
  {
   "cell_type": "code",
   "execution_count": 17,
   "id": "4fc0f9af",
   "metadata": {},
   "outputs": [],
   "source": [
    "_submission_df = pd.DataFrame([X_test.id, Y_pred]).T\n",
    "_submission_df.to_csv('submissions/{}_gaussian.csv'.format(VERSION), header=None, index=False)"
   ]
  },
  {
   "cell_type": "markdown",
   "id": "10412087",
   "metadata": {},
   "source": [
    "## Perceptron"
   ]
  },
  {
   "cell_type": "code",
   "execution_count": 18,
   "id": "35fff675",
   "metadata": {},
   "outputs": [
    {
     "name": "stderr",
     "output_type": "stream",
     "text": [
      "/Users/akirakawai/Library/Python/3.8/lib/python/site-packages/sklearn/base.py:493: FutureWarning: The feature names should match those that were passed during fit. Starting version 1.2, an error will be raised.\n",
      "Feature names unseen at fit time:\n",
      "- id\n",
      "Feature names seen at fit time, yet now missing:\n",
      "- index\n",
      "\n",
      "  warnings.warn(message, FutureWarning)\n"
     ]
    },
    {
     "data": {
      "text/plain": [
       "75.25"
      ]
     },
     "execution_count": 18,
     "metadata": {},
     "output_type": "execute_result"
    }
   ],
   "source": [
    "perceptron = Perceptron()\n",
    "perceptron.fit(X_train, Y_train)\n",
    "Y_pred = perceptron.predict(X_test)\n",
    "acc_perceptron = round(perceptron.score(X_train, Y_train)*100, 2)\n",
    "acc_perceptron"
   ]
  },
  {
   "cell_type": "markdown",
   "id": "69a7e4e6",
   "metadata": {},
   "source": [
    "### What happen if I submit zeros?"
   ]
  },
  {
   "cell_type": "code",
   "execution_count": 19,
   "id": "660b906b",
   "metadata": {},
   "outputs": [
    {
     "data": {
      "text/plain": [
       "75.78"
      ]
     },
     "execution_count": 19,
     "metadata": {},
     "output_type": "execute_result"
    }
   ],
   "source": [
    "Y_zeros = Y_train.copy()\n",
    "Y_zeros[:] = 0\n",
    "Y_zeros\n",
    "acc_zeros = round((Y_train == Y_zeros).sum() / Y_train.shape[0] * 100, 2)\n",
    "acc_zeros\n",
    "\n",
    "# acc_zeros = round(perceptron.score(X_train, Y_train)*100, 2)\n",
    "# acc_zeros"
   ]
  },
  {
   "cell_type": "markdown",
   "id": "e1110a6b",
   "metadata": {},
   "source": [
    "## Linear SVC"
   ]
  },
  {
   "cell_type": "code",
   "execution_count": 20,
   "id": "20b075f4",
   "metadata": {},
   "outputs": [
    {
     "name": "stderr",
     "output_type": "stream",
     "text": [
      "/Users/akirakawai/Library/Python/3.8/lib/python/site-packages/sklearn/svm/_base.py:1206: ConvergenceWarning: Liblinear failed to converge, increase the number of iterations.\n",
      "  warnings.warn(\n",
      "/Users/akirakawai/Library/Python/3.8/lib/python/site-packages/sklearn/base.py:493: FutureWarning: The feature names should match those that were passed during fit. Starting version 1.2, an error will be raised.\n",
      "Feature names unseen at fit time:\n",
      "- id\n",
      "Feature names seen at fit time, yet now missing:\n",
      "- index\n",
      "\n",
      "  warnings.warn(message, FutureWarning)\n"
     ]
    },
    {
     "data": {
      "text/plain": [
       "30.89"
      ]
     },
     "execution_count": 20,
     "metadata": {},
     "output_type": "execute_result"
    }
   ],
   "source": [
    "linear_svc = LinearSVC()\n",
    "linear_svc.fit(X_train, Y_train)\n",
    "Y_pred = linear_svc.predict(X_test)\n",
    "acc_linear_svc = round(linear_svc.score(X_train, Y_train) * 100, 2)\n",
    "acc_linear_svc"
   ]
  },
  {
   "cell_type": "markdown",
   "id": "5d95be0b",
   "metadata": {},
   "source": [
    "## Stochastic Gradient Descent"
   ]
  },
  {
   "cell_type": "code",
   "execution_count": 21,
   "id": "af624db0",
   "metadata": {},
   "outputs": [
    {
     "name": "stderr",
     "output_type": "stream",
     "text": [
      "/Users/akirakawai/Library/Python/3.8/lib/python/site-packages/sklearn/base.py:493: FutureWarning: The feature names should match those that were passed during fit. Starting version 1.2, an error will be raised.\n",
      "Feature names unseen at fit time:\n",
      "- id\n",
      "Feature names seen at fit time, yet now missing:\n",
      "- index\n",
      "\n",
      "  warnings.warn(message, FutureWarning)\n"
     ]
    },
    {
     "data": {
      "text/plain": [
       "75.44"
      ]
     },
     "execution_count": 21,
     "metadata": {},
     "output_type": "execute_result"
    }
   ],
   "source": [
    "sgd = SGDClassifier()\n",
    "sgd.fit(X_train, Y_train)\n",
    "Y_pred = sgd.predict(X_test)\n",
    "acc_sgd = round(sgd.score(X_train, Y_train) * 100, 2)\n",
    "acc_sgd"
   ]
  },
  {
   "cell_type": "markdown",
   "id": "af7111db",
   "metadata": {},
   "source": [
    "## Decision Tree"
   ]
  },
  {
   "cell_type": "code",
   "execution_count": 22,
   "id": "1c705719",
   "metadata": {},
   "outputs": [
    {
     "name": "stderr",
     "output_type": "stream",
     "text": [
      "/Users/akirakawai/Library/Python/3.8/lib/python/site-packages/sklearn/base.py:493: FutureWarning: The feature names should match those that were passed during fit. Starting version 1.2, an error will be raised.\n",
      "Feature names unseen at fit time:\n",
      "- id\n",
      "Feature names seen at fit time, yet now missing:\n",
      "- index\n",
      "\n",
      "  warnings.warn(message, FutureWarning)\n"
     ]
    },
    {
     "data": {
      "text/plain": [
       "100.0"
      ]
     },
     "execution_count": 22,
     "metadata": {},
     "output_type": "execute_result"
    }
   ],
   "source": [
    "decision_tree = DecisionTreeClassifier()\n",
    "decision_tree.fit(X_train, Y_train)\n",
    "Y_pred = decision_tree.predict(X_test)\n",
    "acc_decision_tree = round(decision_tree.score(X_train, Y_train) * 100, 2)\n",
    "acc_decision_tree"
   ]
  },
  {
   "cell_type": "code",
   "execution_count": 23,
   "id": "45d355ad",
   "metadata": {},
   "outputs": [],
   "source": [
    "_submission_df = pd.DataFrame([X_test.id, Y_pred]).T\n",
    "_submission_df.to_csv('submissions/{}_decision_tree.csv'.format(VERSION), header=None, index=False)"
   ]
  },
  {
   "cell_type": "markdown",
   "id": "8bff01e1",
   "metadata": {},
   "source": [
    "## Random Forest"
   ]
  },
  {
   "cell_type": "code",
   "execution_count": 24,
   "id": "073fb820",
   "metadata": {},
   "outputs": [
    {
     "name": "stderr",
     "output_type": "stream",
     "text": [
      "/Users/akirakawai/Library/Python/3.8/lib/python/site-packages/sklearn/base.py:493: FutureWarning: The feature names should match those that were passed during fit. Starting version 1.2, an error will be raised.\n",
      "Feature names unseen at fit time:\n",
      "- id\n",
      "Feature names seen at fit time, yet now missing:\n",
      "- index\n",
      "\n",
      "  warnings.warn(message, FutureWarning)\n"
     ]
    },
    {
     "data": {
      "text/plain": [
       "99.98"
      ]
     },
     "execution_count": 24,
     "metadata": {},
     "output_type": "execute_result"
    }
   ],
   "source": [
    "random_forest = RandomForestClassifier(n_estimators=100)\n",
    "random_forest.fit(X_train, Y_train)\n",
    "Y_pred = random_forest.predict(X_test)\n",
    "random_forest.score(X_train, Y_train)\n",
    "acc_random_forest = round(random_forest.score(X_train, Y_train) * 100, 2)\n",
    "acc_random_forest"
   ]
  },
  {
   "cell_type": "code",
   "execution_count": 25,
   "id": "e6a85572",
   "metadata": {},
   "outputs": [],
   "source": [
    "_submission_df = pd.DataFrame([X_test.id, Y_pred]).T\n",
    "_submission_df.to_csv('submissions/{}_random_forest.csv'.format(VERSION), header=None, index=False)"
   ]
  },
  {
   "cell_type": "markdown",
   "id": "2138e26f",
   "metadata": {},
   "source": [
    "# Model Evaluations"
   ]
  },
  {
   "cell_type": "code",
   "execution_count": 26,
   "id": "25030d70",
   "metadata": {},
   "outputs": [
    {
     "data": {
      "text/html": [
       "<div>\n",
       "<style scoped>\n",
       "    .dataframe tbody tr th:only-of-type {\n",
       "        vertical-align: middle;\n",
       "    }\n",
       "\n",
       "    .dataframe tbody tr th {\n",
       "        vertical-align: top;\n",
       "    }\n",
       "\n",
       "    .dataframe thead th {\n",
       "        text-align: right;\n",
       "    }\n",
       "</style>\n",
       "<table border=\"1\" class=\"dataframe\">\n",
       "  <thead>\n",
       "    <tr style=\"text-align: right;\">\n",
       "      <th></th>\n",
       "      <th>Model</th>\n",
       "      <th>Score</th>\n",
       "    </tr>\n",
       "  </thead>\n",
       "  <tbody>\n",
       "    <tr>\n",
       "      <th>8</th>\n",
       "      <td>Decision Tree</td>\n",
       "      <td>100.00</td>\n",
       "    </tr>\n",
       "    <tr>\n",
       "      <th>3</th>\n",
       "      <td>Random Forest</td>\n",
       "      <td>99.98</td>\n",
       "    </tr>\n",
       "    <tr>\n",
       "      <th>1</th>\n",
       "      <td>KNN</td>\n",
       "      <td>86.77</td>\n",
       "    </tr>\n",
       "    <tr>\n",
       "      <th>4</th>\n",
       "      <td>Naive Bayes</td>\n",
       "      <td>84.00</td>\n",
       "    </tr>\n",
       "    <tr>\n",
       "      <th>2</th>\n",
       "      <td>Logistic Regression</td>\n",
       "      <td>81.84</td>\n",
       "    </tr>\n",
       "    <tr>\n",
       "      <th>0</th>\n",
       "      <td>Support Vector Machines</td>\n",
       "      <td>75.78</td>\n",
       "    </tr>\n",
       "    <tr>\n",
       "      <th>9</th>\n",
       "      <td>Zeros</td>\n",
       "      <td>75.78</td>\n",
       "    </tr>\n",
       "    <tr>\n",
       "      <th>6</th>\n",
       "      <td>Stochastic Gradient Decent</td>\n",
       "      <td>75.44</td>\n",
       "    </tr>\n",
       "    <tr>\n",
       "      <th>5</th>\n",
       "      <td>Perceptron</td>\n",
       "      <td>75.25</td>\n",
       "    </tr>\n",
       "    <tr>\n",
       "      <th>7</th>\n",
       "      <td>Linear SVC</td>\n",
       "      <td>30.89</td>\n",
       "    </tr>\n",
       "  </tbody>\n",
       "</table>\n",
       "</div>"
      ],
      "text/plain": [
       "                        Model   Score\n",
       "8               Decision Tree  100.00\n",
       "3               Random Forest   99.98\n",
       "1                         KNN   86.77\n",
       "4                 Naive Bayes   84.00\n",
       "2         Logistic Regression   81.84\n",
       "0     Support Vector Machines   75.78\n",
       "9                       Zeros   75.78\n",
       "6  Stochastic Gradient Decent   75.44\n",
       "5                  Perceptron   75.25\n",
       "7                  Linear SVC   30.89"
      ]
     },
     "execution_count": 26,
     "metadata": {},
     "output_type": "execute_result"
    }
   ],
   "source": [
    "models = pd.DataFrame({\n",
    "    'Model': ['Support Vector Machines', 'KNN', 'Logistic Regression', \n",
    "              'Random Forest', 'Naive Bayes', 'Perceptron', \n",
    "              'Stochastic Gradient Decent', 'Linear SVC', \n",
    "              'Decision Tree', 'Zeros'],\n",
    "    'Score': [acc_svc, acc_knn, acc_log, \n",
    "              acc_random_forest, acc_gaussian, acc_perceptron, \n",
    "              acc_sgd, acc_linear_svc, acc_decision_tree, acc_zeros]})\n",
    "models.sort_values(by='Score', ascending=False)"
   ]
  },
  {
   "cell_type": "markdown",
   "id": "e25a5b4a-0db7-4ff7-824b-3be54f573b94",
   "metadata": {},
   "source": [
    "https://www.kaggle.com/currypurin/titanic-lightgbm"
   ]
  },
  {
   "cell_type": "code",
   "execution_count": 27,
   "id": "02d2d7b5-5b5d-49f6-b9cd-4d9f6712d537",
   "metadata": {},
   "outputs": [
    {
     "name": "stdout",
     "output_type": "stream",
     "text": [
      "<class 'pandas.core.frame.DataFrame'>\n",
      "RangeIndex: 10200 entries, 0 to 10199\n",
      "Data columns (total 11 columns):\n",
      " #   Column          Non-Null Count  Dtype\n",
      "---  ------          --------------  -----\n",
      " 0   index           10200 non-null  int64\n",
      " 1   age             10200 non-null  int64\n",
      " 2   workclass       10200 non-null  int64\n",
      " 3   education       10200 non-null  int64\n",
      " 4   education-num   10200 non-null  int64\n",
      " 5   marital-status  10200 non-null  int64\n",
      " 6   occupation      10200 non-null  int64\n",
      " 7   relationship    10200 non-null  int64\n",
      " 8   race            10200 non-null  int64\n",
      " 9   sex             10200 non-null  int64\n",
      " 10  native-country  10200 non-null  int64\n",
      "dtypes: int64(11)\n",
      "memory usage: 876.7 KB\n"
     ]
    }
   ],
   "source": [
    "import lightgbm as lgb\n",
    "from sklearn.model_selection import train_test_split\n",
    "from sklearn.metrics import accuracy_score\n",
    "\n",
    "# # X_trainとY_trainをtrainとvalidに分割\n",
    "train_x, valid_x, train_y, valid_y = train_test_split(X_train, Y_train, test_size=0.33, random_state=0)\n",
    "X_train.info()"
   ]
  },
  {
   "cell_type": "code",
   "execution_count": 28,
   "id": "e6baf855-4bc2-426c-a820-1752d0fe9d70",
   "metadata": {},
   "outputs": [
    {
     "name": "stdout",
     "output_type": "stream",
     "text": [
      "[10]\tvalid_0's binary_logloss: 0.326017\n",
      "[20]\tvalid_0's binary_logloss: 0.277958\n",
      "[30]\tvalid_0's binary_logloss: 0.26559\n",
      "[40]\tvalid_0's binary_logloss: 0.263555\n",
      "[50]\tvalid_0's binary_logloss: 0.263475\n",
      "[60]\tvalid_0's binary_logloss: 0.264022\n"
     ]
    },
    {
     "name": "stderr",
     "output_type": "stream",
     "text": [
      "/Library/Python/3.8/site-packages/lightgbm/sklearn.py:726: UserWarning: 'early_stopping_rounds' argument is deprecated and will be removed in a future release of LightGBM. Pass 'early_stopping()' callback via 'callbacks' argument instead.\n",
      "  _log_warning(\"'early_stopping_rounds' argument is deprecated and will be removed in a future release of LightGBM. \"\n",
      "/Library/Python/3.8/site-packages/lightgbm/sklearn.py:736: UserWarning: 'verbose' argument is deprecated and will be removed in a future release of LightGBM. Pass 'log_evaluation()' callback via 'callbacks' argument instead.\n",
      "  _log_warning(\"'verbose' argument is deprecated and will be removed in a future release of LightGBM. \"\n"
     ]
    },
    {
     "data": {
      "text/plain": [
       "90.0"
      ]
     },
     "execution_count": 28,
     "metadata": {},
     "output_type": "execute_result"
    }
   ],
   "source": [
    "# LightGBMの分類器をインスタンス化\n",
    "gbm = lgb.LGBMClassifier(objective='binary')\n",
    "\n",
    "# trainとvalidを指定し学習\n",
    "gbm.fit(train_x, train_y, eval_set = [(valid_x, valid_y)],\n",
    "        early_stopping_rounds=20,  # 20回連続でlossが下がらなかったら終了\n",
    "        verbose=10  # 10round毎に、lossを表示\n",
    ")\n",
    "Y_pred = gbm.predict(X_test)\n",
    "gbm.score(X_train, Y_train)\n",
    "acc_gbm = round(gbm.score(X_train, Y_train) * 100, 2)\n",
    "acc_gbm"
   ]
  },
  {
   "cell_type": "markdown",
   "id": "2c6e55c5",
   "metadata": {},
   "source": []
  },
  {
   "cell_type": "code",
   "execution_count": 29,
   "id": "8ea50337-c1ad-4c1b-8db5-eec92a098801",
   "metadata": {},
   "outputs": [],
   "source": [
    "_submission_df = pd.DataFrame([X_test.id, Y_pred]).T\n",
    "_submission_df.to_csv('submissions/{}_gbm.csv'.format(VERSION), header=None, index=False)"
   ]
  },
  {
   "cell_type": "code",
   "execution_count": null,
   "id": "aebc61c1-301e-45fe-a229-50468f84d015",
   "metadata": {},
   "outputs": [],
   "source": []
  },
  {
   "cell_type": "code",
   "execution_count": null,
   "id": "846ce72a-93cd-432a-b939-02b01a128fc1",
   "metadata": {},
   "outputs": [],
   "source": []
  }
 ],
 "metadata": {
  "kernelspec": {
   "display_name": "Python 3",
   "language": "python",
   "name": "python3"
  },
  "language_info": {
   "codemirror_mode": {
    "name": "ipython",
    "version": 3
   },
   "file_extension": ".py",
   "mimetype": "text/x-python",
   "name": "python",
   "nbconvert_exporter": "python",
   "pygments_lexer": "ipython3",
   "version": "3.8.9"
  }
 },
 "nbformat": 4,
 "nbformat_minor": 5
}
