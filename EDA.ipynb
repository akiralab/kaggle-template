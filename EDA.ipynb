{
 "cells": [
  {
   "cell_type": "markdown",
   "id": "36218bfa-2725-42f8-9100-10a5d07fb7a8",
   "metadata": {},
   "source": [
    "# 1. EDA (Explortary Data Analysis)"
   ]
  },
  {
   "cell_type": "code",
   "execution_count": 1,
   "id": "d05c3510-689c-4346-8990-30965f892411",
   "metadata": {},
   "outputs": [],
   "source": [
    "import pandas as pd\n",
    "import matplotlib.pyplot as plt\n",
    "import numpy as np\n",
    "import seaborn as sns\n",
    "import os"
   ]
  },
  {
   "cell_type": "markdown",
   "id": "5f352502-c00e-4ced-aaca-5683d966eb57",
   "metadata": {},
   "source": [
    "## Ideas\n",
    "- Feature to feature relationship\n",
    "- [detailed-exploratory-data-analysis-with-python](https://www.kaggle.com/ekami66/detailed-exploratory-data-analysis-with-python)\n"
   ]
  },
  {
   "cell_type": "code",
   "execution_count": null,
   "id": "015f3e55-b1cd-49d6-838b-e77b0ec58449",
   "metadata": {},
   "outputs": [],
   "source": []
  },
  {
   "cell_type": "code",
   "execution_count": null,
   "id": "187f80e1-c9f7-4239-8891-f9f75ee0df72",
   "metadata": {},
   "outputs": [],
   "source": []
  },
  {
   "cell_type": "code",
   "execution_count": null,
   "id": "07dba4a3-a72f-4054-9736-53b6517abc38",
   "metadata": {},
   "outputs": [],
   "source": []
  }
 ],
 "metadata": {
  "kernelspec": {
   "display_name": "Python 3",
   "language": "python",
   "name": "python3"
  },
  "language_info": {
   "codemirror_mode": {
    "name": "ipython",
    "version": 3
   },
   "file_extension": ".py",
   "mimetype": "text/x-python",
   "name": "python",
   "nbconvert_exporter": "python",
   "pygments_lexer": "ipython3",
   "version": "3.8.9"
  }
 },
 "nbformat": 4,
 "nbformat_minor": 5
}
